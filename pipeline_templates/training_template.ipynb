{
 "nbformat": 4,
 "nbformat_minor": 5,
 "metadata": {"kernelspec": {"name": "python3", "display_name": "Python 3"}},
 "cells": [
  {"cell_type":"markdown","metadata":{},"source":["# Training template\\nOpen this notebook in **Colab** and run interactively.\\nMake sure to mount Google Drive to load large datasets and store checkpoints."]},
  {"cell_type":"code","metadata":{},"source":["# Install heavy training libs (run once)\\n!pip install -q pycaret[full] scikit-learn xgboost optuna torch torchvision --quiet"], "outputs":[]},
  {"cell_type":"code","metadata":{},"source":["from google.colab import drive\\ndrive.mount('/content/drive')\\nprint('Drive mounted. You can copy dataset to /content/drive/MyDrive/...')"], "outputs":[]},
  {"cell_type":"code","metadata":{},"source":["# EDIT: point dataset_path to your file in Drive\\ndataset_path = '/content/drive/MyDrive/dataset.csv'\\nimport pandas as pd\\ndf = pd.read_csv(dataset_path)\\nprint('Loaded', df.shape)\\ndf.head()"], "outputs":[]},
  {"cell_type":"code","metadata":{},"source":["# EDIT: set task and target\\ntask = 'classification'  # or 'regression'\\ntarget_col = 'target'\\n"], "outputs":[]},
  {"cell_type":"code","metadata":{},"source":["# Simple PyCaret flow (example)\\nif task == 'classification':\\n    from pycaret.classification import setup, compare_models, pull\\n    s = setup(df, target=target_col, silent=True, verbose=False)\\n    best = compare_models(n_select=3)\\n    print(best)\\n    try:\\n        display(pull())\\n    except Exception as e:\\n        print('Leaderboard pull failed', e)\\nelse:\\n    from pycaret.regression import setup, compare_models, pull\\n    s = setup(df, target=target_col, silent=True, verbose=False)\\n    best = compare_models(n_select=3)\\n    try:\\n        display(pull())\\n    except Exception as e:\\n        print('Leaderboard pull failed', e)"], "outputs":[]}
 ]
}
